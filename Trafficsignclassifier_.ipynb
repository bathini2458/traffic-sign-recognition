{
  "cells": [
    {
      "cell_type": "code",
      "execution_count": null,
      "metadata": {
        "colab": {
          "base_uri": "https://localhost:8080/"
        },
        "id": "gp19yg2fGA5p",
        "outputId": "66ea2b7f-bee2-4385-ea39-bbe0e4d2bdc9"
      },
      "outputs": [
        {
          "output_type": "stream",
          "name": "stdout",
          "text": [
            "Cloning into 'german-traffic-signs'...\n",
            "Unpacking objects: 100% (6/6), 117.80 MiB | 6.21 MiB/s, done.\n",
            "Updating files: 100% (4/4), done.\n"
          ]
        }
      ],
      "source": [
        "!git clone https://bitbucket.org/jadslim/german-traffic-signs"
      ]
    },
    {
      "cell_type": "code",
      "execution_count": null,
      "metadata": {
        "colab": {
          "base_uri": "https://localhost:8080/"
        },
        "id": "rzraVkkyGA5s",
        "outputId": "2cbcf2c7-99f9-4d84-bb36-1d016224912a"
      },
      "outputs": [
        {
          "output_type": "stream",
          "name": "stdout",
          "text": [
            "signnames.csv  test.p  train.p\tvalid.p\n"
          ]
        }
      ],
      "source": [
        "!ls german-traffic-signs/"
      ]
    },
    {
      "cell_type": "code",
      "execution_count": null,
      "metadata": {
        "colab": {
          "base_uri": "https://localhost:8080/",
          "height": 206
        },
        "id": "LrwLtsYMGA5t",
        "outputId": "d072d4bb-f36e-45bb-f32e-795a78de88ee"
      },
      "outputs": [
        {
          "output_type": "execute_result",
          "data": {
            "text/plain": [
              "   ClassId              SignName\n",
              "0        0  Speed limit (20km/h)\n",
              "1        1  Speed limit (30km/h)\n",
              "2        2  Speed limit (50km/h)\n",
              "3        3  Speed limit (60km/h)\n",
              "4        4  Speed limit (70km/h)"
            ],
            "text/html": [
              "\n",
              "  <div id=\"df-59a9089a-e4e7-4180-966b-b511b926d08b\" class=\"colab-df-container\">\n",
              "    <div>\n",
              "<style scoped>\n",
              "    .dataframe tbody tr th:only-of-type {\n",
              "        vertical-align: middle;\n",
              "    }\n",
              "\n",
              "    .dataframe tbody tr th {\n",
              "        vertical-align: top;\n",
              "    }\n",
              "\n",
              "    .dataframe thead th {\n",
              "        text-align: right;\n",
              "    }\n",
              "</style>\n",
              "<table border=\"1\" class=\"dataframe\">\n",
              "  <thead>\n",
              "    <tr style=\"text-align: right;\">\n",
              "      <th></th>\n",
              "      <th>ClassId</th>\n",
              "      <th>SignName</th>\n",
              "    </tr>\n",
              "  </thead>\n",
              "  <tbody>\n",
              "    <tr>\n",
              "      <th>0</th>\n",
              "      <td>0</td>\n",
              "      <td>Speed limit (20km/h)</td>\n",
              "    </tr>\n",
              "    <tr>\n",
              "      <th>1</th>\n",
              "      <td>1</td>\n",
              "      <td>Speed limit (30km/h)</td>\n",
              "    </tr>\n",
              "    <tr>\n",
              "      <th>2</th>\n",
              "      <td>2</td>\n",
              "      <td>Speed limit (50km/h)</td>\n",
              "    </tr>\n",
              "    <tr>\n",
              "      <th>3</th>\n",
              "      <td>3</td>\n",
              "      <td>Speed limit (60km/h)</td>\n",
              "    </tr>\n",
              "    <tr>\n",
              "      <th>4</th>\n",
              "      <td>4</td>\n",
              "      <td>Speed limit (70km/h)</td>\n",
              "    </tr>\n",
              "  </tbody>\n",
              "</table>\n",
              "</div>\n",
              "    <div class=\"colab-df-buttons\">\n",
              "\n",
              "  <div class=\"colab-df-container\">\n",
              "    <button class=\"colab-df-convert\" onclick=\"convertToInteractive('df-59a9089a-e4e7-4180-966b-b511b926d08b')\"\n",
              "            title=\"Convert this dataframe to an interactive table.\"\n",
              "            style=\"display:none;\">\n",
              "\n",
              "  <svg xmlns=\"http://www.w3.org/2000/svg\" height=\"24px\" viewBox=\"0 -960 960 960\">\n",
              "    <path d=\"M120-120v-720h720v720H120Zm60-500h600v-160H180v160Zm220 220h160v-160H400v160Zm0 220h160v-160H400v160ZM180-400h160v-160H180v160Zm440 0h160v-160H620v160ZM180-180h160v-160H180v160Zm440 0h160v-160H620v160Z\"/>\n",
              "  </svg>\n",
              "    </button>\n",
              "\n",
              "  <style>\n",
              "    .colab-df-container {\n",
              "      display:flex;\n",
              "      gap: 12px;\n",
              "    }\n",
              "\n",
              "    .colab-df-convert {\n",
              "      background-color: #E8F0FE;\n",
              "      border: none;\n",
              "      border-radius: 50%;\n",
              "      cursor: pointer;\n",
              "      display: none;\n",
              "      fill: #1967D2;\n",
              "      height: 32px;\n",
              "      padding: 0 0 0 0;\n",
              "      width: 32px;\n",
              "    }\n",
              "\n",
              "    .colab-df-convert:hover {\n",
              "      background-color: #E2EBFA;\n",
              "      box-shadow: 0px 1px 2px rgba(60, 64, 67, 0.3), 0px 1px 3px 1px rgba(60, 64, 67, 0.15);\n",
              "      fill: #174EA6;\n",
              "    }\n",
              "\n",
              "    .colab-df-buttons div {\n",
              "      margin-bottom: 4px;\n",
              "    }\n",
              "\n",
              "    [theme=dark] .colab-df-convert {\n",
              "      background-color: #3B4455;\n",
              "      fill: #D2E3FC;\n",
              "    }\n",
              "\n",
              "    [theme=dark] .colab-df-convert:hover {\n",
              "      background-color: #434B5C;\n",
              "      box-shadow: 0px 1px 3px 1px rgba(0, 0, 0, 0.15);\n",
              "      filter: drop-shadow(0px 1px 2px rgba(0, 0, 0, 0.3));\n",
              "      fill: #FFFFFF;\n",
              "    }\n",
              "  </style>\n",
              "\n",
              "    <script>\n",
              "      const buttonEl =\n",
              "        document.querySelector('#df-59a9089a-e4e7-4180-966b-b511b926d08b button.colab-df-convert');\n",
              "      buttonEl.style.display =\n",
              "        google.colab.kernel.accessAllowed ? 'block' : 'none';\n",
              "\n",
              "      async function convertToInteractive(key) {\n",
              "        const element = document.querySelector('#df-59a9089a-e4e7-4180-966b-b511b926d08b');\n",
              "        const dataTable =\n",
              "          await google.colab.kernel.invokeFunction('convertToInteractive',\n",
              "                                                    [key], {});\n",
              "        if (!dataTable) return;\n",
              "\n",
              "        const docLinkHtml = 'Like what you see? Visit the ' +\n",
              "          '<a target=\"_blank\" href=https://colab.research.google.com/notebooks/data_table.ipynb>data table notebook</a>'\n",
              "          + ' to learn more about interactive tables.';\n",
              "        element.innerHTML = '';\n",
              "        dataTable['output_type'] = 'display_data';\n",
              "        await google.colab.output.renderOutput(dataTable, element);\n",
              "        const docLink = document.createElement('div');\n",
              "        docLink.innerHTML = docLinkHtml;\n",
              "        element.appendChild(docLink);\n",
              "      }\n",
              "    </script>\n",
              "  </div>\n",
              "\n",
              "\n",
              "<div id=\"df-3b16295b-549d-4018-8a29-5e3fec79ab5e\">\n",
              "  <button class=\"colab-df-quickchart\" onclick=\"quickchart('df-3b16295b-549d-4018-8a29-5e3fec79ab5e')\"\n",
              "            title=\"Suggest charts.\"\n",
              "            style=\"display:none;\">\n",
              "\n",
              "<svg xmlns=\"http://www.w3.org/2000/svg\" height=\"24px\"viewBox=\"0 0 24 24\"\n",
              "     width=\"24px\">\n",
              "    <g>\n",
              "        <path d=\"M19 3H5c-1.1 0-2 .9-2 2v14c0 1.1.9 2 2 2h14c1.1 0 2-.9 2-2V5c0-1.1-.9-2-2-2zM9 17H7v-7h2v7zm4 0h-2V7h2v10zm4 0h-2v-4h2v4z\"/>\n",
              "    </g>\n",
              "</svg>\n",
              "  </button>\n",
              "\n",
              "<style>\n",
              "  .colab-df-quickchart {\n",
              "      --bg-color: #E8F0FE;\n",
              "      --fill-color: #1967D2;\n",
              "      --hover-bg-color: #E2EBFA;\n",
              "      --hover-fill-color: #174EA6;\n",
              "      --disabled-fill-color: #AAA;\n",
              "      --disabled-bg-color: #DDD;\n",
              "  }\n",
              "\n",
              "  [theme=dark] .colab-df-quickchart {\n",
              "      --bg-color: #3B4455;\n",
              "      --fill-color: #D2E3FC;\n",
              "      --hover-bg-color: #434B5C;\n",
              "      --hover-fill-color: #FFFFFF;\n",
              "      --disabled-bg-color: #3B4455;\n",
              "      --disabled-fill-color: #666;\n",
              "  }\n",
              "\n",
              "  .colab-df-quickchart {\n",
              "    background-color: var(--bg-color);\n",
              "    border: none;\n",
              "    border-radius: 50%;\n",
              "    cursor: pointer;\n",
              "    display: none;\n",
              "    fill: var(--fill-color);\n",
              "    height: 32px;\n",
              "    padding: 0;\n",
              "    width: 32px;\n",
              "  }\n",
              "\n",
              "  .colab-df-quickchart:hover {\n",
              "    background-color: var(--hover-bg-color);\n",
              "    box-shadow: 0 1px 2px rgba(60, 64, 67, 0.3), 0 1px 3px 1px rgba(60, 64, 67, 0.15);\n",
              "    fill: var(--button-hover-fill-color);\n",
              "  }\n",
              "\n",
              "  .colab-df-quickchart-complete:disabled,\n",
              "  .colab-df-quickchart-complete:disabled:hover {\n",
              "    background-color: var(--disabled-bg-color);\n",
              "    fill: var(--disabled-fill-color);\n",
              "    box-shadow: none;\n",
              "  }\n",
              "\n",
              "  .colab-df-spinner {\n",
              "    border: 2px solid var(--fill-color);\n",
              "    border-color: transparent;\n",
              "    border-bottom-color: var(--fill-color);\n",
              "    animation:\n",
              "      spin 1s steps(1) infinite;\n",
              "  }\n",
              "\n",
              "  @keyframes spin {\n",
              "    0% {\n",
              "      border-color: transparent;\n",
              "      border-bottom-color: var(--fill-color);\n",
              "      border-left-color: var(--fill-color);\n",
              "    }\n",
              "    20% {\n",
              "      border-color: transparent;\n",
              "      border-left-color: var(--fill-color);\n",
              "      border-top-color: var(--fill-color);\n",
              "    }\n",
              "    30% {\n",
              "      border-color: transparent;\n",
              "      border-left-color: var(--fill-color);\n",
              "      border-top-color: var(--fill-color);\n",
              "      border-right-color: var(--fill-color);\n",
              "    }\n",
              "    40% {\n",
              "      border-color: transparent;\n",
              "      border-right-color: var(--fill-color);\n",
              "      border-top-color: var(--fill-color);\n",
              "    }\n",
              "    60% {\n",
              "      border-color: transparent;\n",
              "      border-right-color: var(--fill-color);\n",
              "    }\n",
              "    80% {\n",
              "      border-color: transparent;\n",
              "      border-right-color: var(--fill-color);\n",
              "      border-bottom-color: var(--fill-color);\n",
              "    }\n",
              "    90% {\n",
              "      border-color: transparent;\n",
              "      border-bottom-color: var(--fill-color);\n",
              "    }\n",
              "  }\n",
              "</style>\n",
              "\n",
              "  <script>\n",
              "    async function quickchart(key) {\n",
              "      const quickchartButtonEl =\n",
              "        document.querySelector('#' + key + ' button');\n",
              "      quickchartButtonEl.disabled = true;  // To prevent multiple clicks.\n",
              "      quickchartButtonEl.classList.add('colab-df-spinner');\n",
              "      try {\n",
              "        const charts = await google.colab.kernel.invokeFunction(\n",
              "            'suggestCharts', [key], {});\n",
              "      } catch (error) {\n",
              "        console.error('Error during call to suggestCharts:', error);\n",
              "      }\n",
              "      quickchartButtonEl.classList.remove('colab-df-spinner');\n",
              "      quickchartButtonEl.classList.add('colab-df-quickchart-complete');\n",
              "    }\n",
              "    (() => {\n",
              "      let quickchartButtonEl =\n",
              "        document.querySelector('#df-3b16295b-549d-4018-8a29-5e3fec79ab5e button');\n",
              "      quickchartButtonEl.style.display =\n",
              "        google.colab.kernel.accessAllowed ? 'block' : 'none';\n",
              "    })();\n",
              "  </script>\n",
              "</div>\n",
              "    </div>\n",
              "  </div>\n"
            ]
          },
          "metadata": {},
          "execution_count": 2
        }
      ],
      "source": [
        "import pandas as pd\n",
        "df = pd.read_csv('german-traffic-signs/signnames.csv')\n",
        "df.head(5)"
      ]
    },
    {
      "cell_type": "code",
      "execution_count": null,
      "metadata": {
        "id": "FteH215eGA5u"
      },
      "outputs": [],
      "source": [
        "import tensorflow.keras as keras\n",
        "from tensorflow.keras.models import Sequential\n",
        "from tensorflow.keras.layers import Dense, Flatten, Dropout, Conv2D, MaxPooling2D\n",
        "from tensorflow.keras.utils import to_categorical\n",
        "from tensorflow.keras.optimizers import Adam\n",
        "import matplotlib.pyplot as plt\n",
        "import numpy as np\n",
        "import pickle\n",
        "import random\n",
        "import pandas as pd\n",
        "import cv2"
      ]
    },
    {
      "cell_type": "markdown",
      "metadata": {
        "id": "WwGfTj07GA5v"
      },
      "source": [
        "## Load Train, Test and Validation dataset"
      ]
    },
    {
      "cell_type": "code",
      "execution_count": null,
      "metadata": {
        "id": "nX73z_K4GA5w"
      },
      "outputs": [],
      "source": [
        "np.random.seed(0)\n",
        "with open('german-traffic-signs/train.p', 'rb') as f:\n",
        "    train_data = pickle.load(f)\n",
        "with open('german-traffic-signs/test.p', 'rb') as f:\n",
        "    test_data = pickle.load(f)\n",
        "with open('german-traffic-signs/valid.p', 'rb') as f:\n",
        "    valid_data = pickle.load(f)"
      ]
    },
    {
      "cell_type": "code",
      "execution_count": null,
      "metadata": {
        "colab": {
          "base_uri": "https://localhost:8080/"
        },
        "id": "lx2i-4YhGA5x",
        "outputId": "bcce898a-e4aa-4598-8c50-25b68ccdca19"
      },
      "outputs": [
        {
          "output_type": "stream",
          "name": "stdout",
          "text": [
            "Train data shape (34799, 32, 32, 3) Train data label (34799,)\n",
            "Test data shape (12630, 32, 32, 3) Test data label (12630,)\n",
            "valid data shape (4410, 32, 32, 3) Valid data label (4410,)\n"
          ]
        }
      ],
      "source": [
        "train_x, train_y = train_data['features'],train_data['labels']\n",
        "val_x, val_y = valid_data['features'],valid_data['labels']\n",
        "test_x,test_y = test_data['features'],test_data['labels']\n",
        "\n",
        "print('Train data shape',train_x.shape,'Train data label',train_y.shape)\n",
        "print('Test data shape',test_x.shape,'Test data label',test_y.shape)\n",
        "print('valid data shape',val_x.shape,'Valid data label',val_y.shape)"
      ]
    },
    {
      "cell_type": "markdown",
      "metadata": {
        "id": "kHNjvslkGA5y"
      },
      "source": [
        "## getting number of samples from each class in training dataset"
      ]
    },
    {
      "cell_type": "code",
      "source": [
        "from google.colab import drive\n",
        "drive.mount('/content/drive')"
      ],
      "metadata": {
        "colab": {
          "base_uri": "https://localhost:8080/"
        },
        "id": "NzQhOW8SHYKz",
        "outputId": "d1a678ee-d836-4d11-b619-3045910be417"
      },
      "execution_count": null,
      "outputs": [
        {
          "output_type": "stream",
          "name": "stdout",
          "text": [
            "Mounted at /content/drive\n"
          ]
        }
      ]
    },
    {
      "cell_type": "code",
      "execution_count": null,
      "metadata": {
        "colab": {
          "base_uri": "https://localhost:8080/"
        },
        "id": "s6Sp__yTGA5y",
        "outputId": "bdb6b7ad-e50b-4c8c-ce79-7a23a917d199"
      },
      "outputs": [
        {
          "output_type": "stream",
          "name": "stdout",
          "text": [
            "43\n"
          ]
        }
      ],
      "source": [
        "import os\n",
        "num_samples = []\n",
        "for i in range(len(df)):\n",
        "    file_count = len(os.listdir('/content/drive/MyDrive/Train/'+str(i)+'/'))\n",
        "    num_samples.append(file_count)\n",
        "print(len(num_samples))"
      ]
    },
    {
      "cell_type": "code",
      "execution_count": null,
      "metadata": {
        "colab": {
          "base_uri": "https://localhost:8080/"
        },
        "id": "oofvcq61GA5z",
        "outputId": "27e13078-6a83-44af-e30d-e10b5d5de413"
      },
      "outputs": [
        {
          "output_type": "stream",
          "name": "stdout",
          "text": [
            "[0, 0, 2260, 1410, 1990, 1870, 420, 1440, 1410, 1470, 0, 702, 2110, 2200, 780, 630, 430, 1120, 1210, 210, 380, 330, 390, 510, 270, 1500, 600, 240, 540, 270, 450, 780, 240, 699, 420, 1200, 390, 210, 2100, 300, 360, 240, 240]\n"
          ]
        }
      ],
      "source": [
        "print(num_samples)"
      ]
    },
    {
      "cell_type": "markdown",
      "metadata": {
        "id": "ufEtljoAGA5z"
      },
      "source": [
        "## Plot the distribution of the number of samples from each class in training dataset"
      ]
    },
    {
      "cell_type": "code",
      "execution_count": null,
      "metadata": {
        "colab": {
          "base_uri": "https://localhost:8080/",
          "height": 382
        },
        "id": "uqiZWbwlGA5z",
        "outputId": "62d85f77-c34d-4b13-e56f-d3ab109d6944"
      },
      "outputs": [
        {
          "output_type": "display_data",
          "data": {
            "text/plain": [
              "<Figure size 1200x400 with 1 Axes>"
            ],
            "image/png": "[encoded data removed]"
          },
          "metadata": {}
        }
      ],
      "source": [
        "plt.figure(figsize=(12,4))\n",
        "plt.bar(range(0, len(df)), num_samples)\n",
        "plt.title('distribution of the dataset')\n",
        "plt.xlabel('class_labels')\n",
        "plt.ylabel('number of images')\n",
        "plt.show()"
      ]
    },
    {
      "cell_type": "code",
      "execution_count": null,
      "metadata": {
        "id": "0kG22wqiGA50",
        "colab": {
          "base_uri": "https://localhost:8080/",
          "height": 447
        },
        "outputId": "356cb7d1-4bd0-48bd-c9ce-7854d656d48d"
      },
      "outputs": [
        {
          "output_type": "execute_result",
          "data": {
            "text/plain": [
              "<matplotlib.image.AxesImage at 0x797d8a9cf6a0>"
            ]
          },
          "metadata": {},
          "execution_count": 9
        },
        {
          "output_type": "display_data",
          "data": {
            "text/plain": [
              "<Figure size 640x480 with 1 Axes>"
            ],
            "image/png": "[encoded data removed]"
          },
          "metadata": {}
        }
      ],
      "source": [
        "plt.imshow(train_x[3000])"
      ]
    },
    {
      "cell_type": "markdown",
      "metadata": {
        "id": "J7ABcEt2GA50"
      },
      "source": [
        "## Convert the image to grayscale\n",
        "#### Note: Reason to convert to grayscale is, for traffic sign identification, color is not necessary, only edges and shapes are required"
      ]
    },
    {
      "cell_type": "code",
      "execution_count": null,
      "metadata": {
        "colab": {
          "base_uri": "https://localhost:8080/",
          "height": 447
        },
        "id": "cAUkWqC1GA51",
        "outputId": "efcf5f64-5668-4bd2-f86d-c4592690259f"
      },
      "outputs": [
        {
          "output_type": "execute_result",
          "data": {
            "text/plain": [
              "<matplotlib.image.AxesImage at 0x797d8a927610>"
            ]
          },
          "metadata": {},
          "execution_count": 10
        },
        {
          "output_type": "display_data",
          "data": {
            "text/plain": [
              "<Figure size 640x480 with 1 Axes>"
            ],
            "image/png": "[encoded data removed]"
          },
          "metadata": {}
        }
      ],
      "source": [
        "def grayscale(image):\n",
        "    image = cv2.cvtColor(image,cv2.COLOR_BGR2GRAY)\n",
        "    return image\n",
        "\n",
        "img = grayscale(train_x[3000])\n",
        "plt.imshow(img, cmap = plt.get_cmap('gray'))"
      ]
    },
    {
      "cell_type": "markdown",
      "metadata": {
        "id": "ZcY37T2gGA51"
      },
      "source": [
        "### Use histogram equalization technique to standardize contrast/light in all images"
      ]
    },
    {
      "cell_type": "code",
      "execution_count": null,
      "metadata": {
        "colab": {
          "base_uri": "https://localhost:8080/",
          "height": 447
        },
        "id": "OL88yVKkGA51",
        "outputId": "ed32a2aa-22f8-42db-8a83-eeb6f6a46a9c"
      },
      "outputs": [
        {
          "output_type": "execute_result",
          "data": {
            "text/plain": [
              "<matplotlib.image.AxesImage at 0x797d8a9b14e0>"
            ]
          },
          "metadata": {},
          "execution_count": 11
        },
        {
          "output_type": "display_data",
          "data": {
            "text/plain": [
              "<Figure size 640x480 with 1 Axes>"
            ],
            "image/png": "[encoded data removed]"
          },
          "metadata": {}
        }
      ],
      "source": [
        "def equalize(image):\n",
        "    image = cv2.equalizeHist(image)\n",
        "    return image\n",
        "img = equalize(img)\n",
        "plt.imshow(img, cmap=plt.get_cmap('gray'))"
      ]
    },
    {
      "cell_type": "code",
      "execution_count": null,
      "metadata": {
        "id": "75GQgx1WGA52"
      },
      "outputs": [],
      "source": [
        "def processing(image):\n",
        "    gray_img = grayscale(image)\n",
        "    img = equalize(gray_img)\n",
        "    img = img/255\n",
        "    return img"
      ]
    },
    {
      "cell_type": "markdown",
      "metadata": {
        "id": "Z-tTHN6XGA52"
      },
      "source": [
        "## Convert all train, test and validation dataset to grayscale & histogram technique"
      ]
    },
    {
      "cell_type": "code",
      "execution_count": null,
      "metadata": {
        "id": "csQdhlfXGA52"
      },
      "outputs": [],
      "source": [
        "train_x = np.asarray(list(map(processing, train_x)))\n",
        "val_x = np.asarray(list(map(processing, val_x)))\n",
        "test_x = np.asarray(list(map(processing, test_x)))"
      ]
    },
    {
      "cell_type": "code",
      "execution_count": null,
      "metadata": {
        "colab": {
          "base_uri": "https://localhost:8080/",
          "height": 447
        },
        "id": "q5kdNc9fGA52",
        "outputId": "1481b1eb-e3ab-4d53-ad33-1d9c34548594"
      },
      "outputs": [
        {
          "output_type": "execute_result",
          "data": {
            "text/plain": [
              "<matplotlib.image.AxesImage at 0x797d8a8337f0>"
            ]
          },
          "metadata": {},
          "execution_count": 14
        },
        {
          "output_type": "display_data",
          "data": {
            "text/plain": [
              "<Figure size 640x480 with 1 Axes>"
            ],
            "image/png": "[encoded data removed]"
          },
          "metadata": {}
        }
      ],
      "source": [
        "plt.imshow(train_x[random.randint(0, len(train_x-1))],cmap=plt.get_cmap('gray'))"
      ]
    },
    {
      "cell_type": "code",
      "execution_count": null,
      "metadata": {
        "colab": {
          "base_uri": "https://localhost:8080/"
        },
        "id": "tWTp1Y8VGA53",
        "outputId": "392d9c3c-d0c9-46bc-817d-51ac1e54b05b"
      },
      "outputs": [
        {
          "output_type": "execute_result",
          "data": {
            "text/plain": [
              "34799"
            ]
          },
          "metadata": {},
          "execution_count": 17
        }
      ],
      "source": [
        "train_x.shape[0]"
      ]
    },
    {
      "cell_type": "code",
      "execution_count": null,
      "metadata": {
        "id": "D_dk6AiCGA53"
      },
      "outputs": [],
      "source": [
        "train_x = train_x.reshape(train_x.shape[0],train_x.shape[1],train_x.shape[2],1)\n",
        "val_x = val_x.reshape(val_x.shape[0],val_x.shape[1],val_x.shape[2],1)\n",
        "test_x = test_x.reshape(test_x.shape[0],test_x.shape[1],test_x.shape[2],1)\n"
      ]
    },
    {
      "cell_type": "markdown",
      "metadata": {
        "id": "LKtnWpA2GA53"
      },
      "source": [
        "## Generate some datasets with different angles using Keras Imagedatagenerator"
      ]
    },
    {
      "cell_type": "code",
      "execution_count": null,
      "metadata": {
        "id": "tbE7KTYqGA54"
      },
      "outputs": [],
      "source": [
        "from keras.preprocessing.image import ImageDataGenerator\n",
        "datagen = ImageDataGenerator(width_shift_range=0.1,\n",
        "                            height_shift_range=0.1,\n",
        "                            zoom_range=0.2,\n",
        "                            shear_range=0.1,\n",
        "                            rotation_range=10.)\n",
        "datagen.fit(train_x)\n",
        "#batches = datagen.flow(train_x,train_y,batch_size=15)\n"
      ]
    },
    {
      "cell_type": "markdown",
      "metadata": {
        "id": "ycryn1rQGA54"
      },
      "source": [
        "## One-hot encode the labels"
      ]
    },
    {
      "cell_type": "code",
      "execution_count": null,
      "metadata": {
        "id": "adrRT9DIGA54"
      },
      "outputs": [],
      "source": [
        "train_y = to_categorical(train_y,43)\n",
        "test_y = to_categorical(test_y,43)\n",
        "val_y = to_categorical(val_y,43)"
      ]
    },
    {
      "cell_type": "markdown",
      "metadata": {
        "id": "y3nzsYKAGA55"
      },
      "source": [
        "## Define the model"
      ]
    },
    {
      "cell_type": "code",
      "execution_count": null,
      "metadata": {
        "id": "XSHQOGhUGA55"
      },
      "outputs": [],
      "source": [
        "# Build and train the CNN\n",
        "\n",
        "import numpy as np\n",
        "from keras.models import Sequential\n",
        "from keras.layers import Conv2D, ReLU, MaxPooling2D, Flatten, Dense, Dropout\n",
        "from keras.optimizers import Adam\n",
        "from sklearn.tree import DecisionTreeClassifier\n",
        "def build_cnn_model(input_shape, num_classes):\n",
        "    model = Sequential()\n",
        "    model.add(Conv2D(60, (5, 5), input_shape=input_shape))\n",
        "    model.add(ReLU())\n",
        "    model.add(Conv2D(60, (5, 5)))\n",
        "    model.add(ReLU())\n",
        "    model.add(MaxPooling2D(pool_size=(2, 2)))\n",
        "\n",
        "    model.add(Conv2D(30, (3, 3)))\n",
        "    model.add(ReLU())\n",
        "    model.add(Conv2D(30, (3, 3)))\n",
        "    model.add(ReLU())\n",
        "    model.add(MaxPooling2D(pool_size=(2, 2)))\n",
        "\n",
        "    model.add(Flatten())\n",
        "    model.add(Dense(500, activation='relu'))\n",
        "    model.add(Dropout(0.5))\n",
        "    model.add(Dense(num_classes, activation='softmax'))\n",
        "\n",
        "    model.compile(Adam(lr=0.001), loss=\"categorical_crossentropy\", metrics=[\"accuracy\"])\n",
        "    return model"
      ]
    },
    {
      "cell_type": "code",
      "execution_count": null,
      "metadata": {
        "colab": {
          "base_uri": "https://localhost:8080/"
        },
        "id": "hcZkLZ7FGA55",
        "outputId": "093e34a6-b650-4e29-8d77-67c098c1694e"
      },
      "outputs": [
        {
          "output_type": "stream",
          "name": "stderr",
          "text": [
            "WARNING:absl:`lr` is deprecated in Keras optimizer, please use `learning_rate` or use the legacy optimizer, e.g.,tf.keras.optimizers.legacy.Adam.\n"
          ]
        },
        {
          "output_type": "stream",
          "name": "stdout",
          "text": [
            "Epoch 1/15\n",
            "20/20 [==============================] - 37s 2s/step - loss: 3.6044 - accuracy: 0.0586 - val_loss: 3.5402 - val_accuracy: 0.0544\n",
            "Epoch 2/15\n",
            "20/20 [==============================] - 33s 2s/step - loss: 3.4924 - accuracy: 0.0789 - val_loss: 3.4665 - val_accuracy: 0.1041\n",
            "Epoch 3/15\n",
            "20/20 [==============================] - 27s 1s/step - loss: 3.2305 - accuracy: 0.1633 - val_loss: 2.8997 - val_accuracy: 0.2692\n",
            "Epoch 4/15\n",
            "20/20 [==============================] - 34s 2s/step - loss: 2.4362 - accuracy: 0.3703 - val_loss: 2.0456 - val_accuracy: 0.4694\n",
            "Epoch 5/15\n",
            "20/20 [==============================] - 34s 2s/step - loss: 1.8457 - accuracy: 0.4914 - val_loss: 1.4267 - val_accuracy: 0.6036\n",
            "Epoch 6/15\n",
            "20/20 [==============================] - 34s 2s/step - loss: 1.4542 - accuracy: 0.5797 - val_loss: 1.1655 - val_accuracy: 0.6803\n",
            "Epoch 7/15\n",
            "20/20 [==============================] - 37s 2s/step - loss: 1.1842 - accuracy: 0.6516 - val_loss: 0.8826 - val_accuracy: 0.7542\n",
            "Epoch 8/15\n",
            "20/20 [==============================] - 34s 2s/step - loss: 0.9459 - accuracy: 0.7164 - val_loss: 0.7483 - val_accuracy: 0.8009\n",
            "Epoch 9/15\n",
            "20/20 [==============================] - 25s 1s/step - loss: 0.7715 - accuracy: 0.7641 - val_loss: 0.6168 - val_accuracy: 0.8281\n",
            "Epoch 10/15\n",
            "20/20 [==============================] - 34s 2s/step - loss: 0.8051 - accuracy: 0.7477 - val_loss: 0.6438 - val_accuracy: 0.8265\n",
            "Epoch 11/15\n",
            "20/20 [==============================] - 37s 2s/step - loss: 0.6711 - accuracy: 0.7875 - val_loss: 0.5079 - val_accuracy: 0.8612\n",
            "Epoch 12/15\n",
            "20/20 [==============================] - 53s 3s/step - loss: 0.5699 - accuracy: 0.8328 - val_loss: 0.4151 - val_accuracy: 0.8812\n",
            "Epoch 13/15\n",
            "20/20 [==============================] - 34s 2s/step - loss: 0.5120 - accuracy: 0.8328 - val_loss: 0.3948 - val_accuracy: 0.8816\n",
            "Epoch 14/15\n",
            "20/20 [==============================] - 34s 2s/step - loss: 0.4772 - accuracy: 0.8578 - val_loss: 0.3789 - val_accuracy: 0.8961\n",
            "Epoch 15/15\n",
            "20/20 [==============================] - 34s 2s/step - loss: 0.3831 - accuracy: 0.8820 - val_loss: 0.3606 - val_accuracy: 0.8961\n"
          ]
        }
      ],
      "source": [
        "batch_size = 64\n",
        "steps_per_epoch = 20  # You can set this to 20 or any other value you prefer\n",
        "\n",
        "cnn_model = build_cnn_model(train_x.shape[1:], len(df['ClassId']))\n",
        "history = cnn_model.fit(train_x, train_y, batch_size=batch_size, epochs=15, validation_data=(val_x, val_y), shuffle=1, steps_per_epoch=steps_per_epoch)\n"
      ]
    },
    {
      "cell_type": "code",
      "source": [
        "from sklearn.tree import DecisionTreeClassifier"
      ],
      "metadata": {
        "id": "ZhYgBsntO7Vt"
      },
      "execution_count": null,
      "outputs": []
    },
    {
      "cell_type": "code",
      "source": [
        "# Extract features from the CNN model\n",
        "cnn_features = cnn_model.predict(train_x)"
      ],
      "metadata": {
        "colab": {
          "base_uri": "https://localhost:8080/"
        },
        "id": "aiUvZEeTTMqI",
        "outputId": "12b02ab1-6c07-46c6-d3ee-5816a24fdd08"
      },
      "execution_count": null,
      "outputs": [
        {
          "output_type": "stream",
          "name": "stdout",
          "text": [
            "1088/1088 [==============================] - 111s 102ms/step\n"
          ]
        }
      ]
    },
    {
      "cell_type": "code",
      "source": [
        "# Train a Decision Tree on the extracted features\n",
        "decision_tree = DecisionTreeClassifier()\n",
        "decision_tree.fit(cnn_features, np.argmax(train_y, axis=1))"
      ],
      "metadata": {
        "colab": {
          "base_uri": "https://localhost:8080/",
          "height": 75
        },
        "id": "pQA0u1IiTaqe",
        "outputId": "80797fc5-a1a6-4c8b-d0dc-f23e8db8ce0b"
      },
      "execution_count": null,
      "outputs": [
        {
          "output_type": "execute_result",
          "data": {
            "text/plain": [
              "DecisionTreeClassifier()"
            ],
            "text/html": [
              "<style>#sk-container-id-1 {color: black;background-color: white;}#sk-container-id-1 pre{padding: 0;}#sk-container-id-1 div.sk-toggleable {background-color: white;}#sk-container-id-1 label.sk-toggleable__label {cursor: pointer;display: block;width: 100%;margin-bottom: 0;padding: 0.3em;box-sizing: border-box;text-align: center;}#sk-container-id-1 label.sk-toggleable__label-arrow:before {content: \"▸\";float: left;margin-right: 0.25em;color: #696969;}#sk-container-id-1 label.sk-toggleable__label-arrow:hover:before {color: black;}#sk-container-id-1 div.sk-estimator:hover label.sk-toggleable__label-arrow:before {color: black;}#sk-container-id-1 div.sk-toggleable__content {max-height: 0;max-width: 0;overflow: hidden;text-align: left;background-color: #f0f8ff;}#sk-container-id-1 div.sk-toggleable__content pre {margin: 0.2em;color: black;border-radius: 0.25em;background-color: #f0f8ff;}#sk-container-id-1 input.sk-toggleable__control:checked~div.sk-toggleable__content {max-height: 200px;max-width: 100%;overflow: auto;}#sk-container-id-1 input.sk-toggleable__control:checked~label.sk-toggleable__label-arrow:before {content: \"▾\";}#sk-container-id-1 div.sk-estimator input.sk-toggleable__control:checked~label.sk-toggleable__label {background-color: #d4ebff;}#sk-container-id-1 div.sk-label input.sk-toggleable__control:checked~label.sk-toggleable__label {background-color: #d4ebff;}#sk-container-id-1 input.sk-hidden--visually {border: 0;clip: rect(1px 1px 1px 1px);clip: rect(1px, 1px, 1px, 1px);height: 1px;margin: -1px;overflow: hidden;padding: 0;position: absolute;width: 1px;}#sk-container-id-1 div.sk-estimator {font-family: monospace;background-color: #f0f8ff;border: 1px dotted black;border-radius: 0.25em;box-sizing: border-box;margin-bottom: 0.5em;}#sk-container-id-1 div.sk-estimator:hover {background-color: #d4ebff;}#sk-container-id-1 div.sk-parallel-item::after {content: \"\";width: 100%;border-bottom: 1px solid gray;flex-grow: 1;}#sk-container-id-1 div.sk-label:hover label.sk-toggleable__label {background-color: #d4ebff;}#sk-container-id-1 div.sk-serial::before {content: \"\";position: absolute;border-left: 1px solid gray;box-sizing: border-box;top: 0;bottom: 0;left: 50%;z-index: 0;}#sk-container-id-1 div.sk-serial {display: flex;flex-direction: column;align-items: center;background-color: white;padding-right: 0.2em;padding-left: 0.2em;position: relative;}#sk-container-id-1 div.sk-item {position: relative;z-index: 1;}#sk-container-id-1 div.sk-parallel {display: flex;align-items: stretch;justify-content: center;background-color: white;position: relative;}#sk-container-id-1 div.sk-item::before, #sk-container-id-1 div.sk-parallel-item::before {content: \"\";position: absolute;border-left: 1px solid gray;box-sizing: border-box;top: 0;bottom: 0;left: 50%;z-index: -1;}#sk-container-id-1 div.sk-parallel-item {display: flex;flex-direction: column;z-index: 1;position: relative;background-color: white;}#sk-container-id-1 div.sk-parallel-item:first-child::after {align-self: flex-end;width: 50%;}#sk-container-id-1 div.sk-parallel-item:last-child::after {align-self: flex-start;width: 50%;}#sk-container-id-1 div.sk-parallel-item:only-child::after {width: 0;}#sk-container-id-1 div.sk-dashed-wrapped {border: 1px dashed gray;margin: 0 0.4em 0.5em 0.4em;box-sizing: border-box;padding-bottom: 0.4em;background-color: white;}#sk-container-id-1 div.sk-label label {font-family: monospace;font-weight: bold;display: inline-block;line-height: 1.2em;}#sk-container-id-1 div.sk-label-container {text-align: center;}#sk-container-id-1 div.sk-container {/* jupyter's `normalize.less` sets `[hidden] { display: none; }` but bootstrap.min.css set `[hidden] { display: none !important; }` so we also need the `!important` here to be able to override the default hidden behavior on the sphinx rendered scikit-learn.org. See: https://github.com/scikit-learn/scikit-learn/issues/21755 */display: inline-block !important;position: relative;}#sk-container-id-1 div.sk-text-repr-fallback {display: none;}</style><div id=\"sk-container-id-1\" class=\"sk-top-container\"><div class=\"sk-text-repr-fallback\"><pre>DecisionTreeClassifier()</pre><b>In a Jupyter environment, please rerun this cell to show the HTML representation or trust the notebook. <br />On GitHub, the HTML representation is unable to render, please try loading this page with nbviewer.org.</b></div><div class=\"sk-container\" hidden><div class=\"sk-item\"><div class=\"sk-estimator sk-toggleable\"><input class=\"sk-toggleable__control sk-hidden--visually\" id=\"sk-estimator-id-1\" type=\"checkbox\" checked><label for=\"sk-estimator-id-1\" class=\"sk-toggleable__label sk-toggleable__label-arrow\">DecisionTreeClassifier</label><div class=\"sk-toggleable__content\"><pre>DecisionTreeClassifier()</pre></div></div></div></div></div>"
            ]
          },
          "metadata": {},
          "execution_count": 23
        }
      ]
    },
    {
      "cell_type": "code",
      "source": [
        "# Evaluate the Decision Tree model\n",
        "cnn_val_features = cnn_model.predict(val_x)\n",
        "accuracy = decision_tree.score(cnn_val_features, np.argmax(val_y, axis=1))\n",
        "print(f\"Decision Tree Accuracy: {accuracy}\")"
      ],
      "metadata": {
        "colab": {
          "base_uri": "https://localhost:8080/"
        },
        "id": "kK4e04kDTdiB",
        "outputId": "0e92cec5-9856-4839-83e5-13d99b97c461"
      },
      "execution_count": null,
      "outputs": [
        {
          "output_type": "stream",
          "name": "stdout",
          "text": [
            "138/138 [==============================] - 14s 103ms/step\n",
            "Decision Tree Accuracy: 0.8945578231292517\n"
          ]
        }
      ]
    },
    {
      "cell_type": "markdown",
      "metadata": {
        "id": "Ej4fdhH1GA56"
      },
      "source": [
        "## Train the model"
      ]
    },
    {
      "cell_type": "markdown",
      "metadata": {
        "id": "iPzGW5x8GA57"
      },
      "source": [
        "###### able to achieve 92% accuracy"
      ]
    },
    {
      "cell_type": "code",
      "execution_count": null,
      "metadata": {
        "colab": {
          "base_uri": "https://localhost:8080/",
          "height": 489
        },
        "id": "r8TO_yQ4GA57",
        "outputId": "7c9e7d4e-83df-4a76-8905-aa9efecad6b7"
      },
      "outputs": [
        {
          "output_type": "execute_result",
          "data": {
            "text/plain": [
              "Text(0, 0.5, 'loss')"
            ]
          },
          "metadata": {},
          "execution_count": 25
        },
        {
          "output_type": "display_data",
          "data": {
            "text/plain": [
              "<Figure size 640x480 with 1 Axes>"
            ],
            "image/png": "[encoded data removed]"
          },
          "metadata": {}
        }
      ],
      "source": [
        "plt.plot(history.history['loss'])\n",
        "plt.plot(history.history['val_loss'])\n",
        "plt.legend(['training','validation'])\n",
        "plt.title('Model loss')\n",
        "plt.xlabel('epoch')\n",
        "plt.ylabel('loss')"
      ]
    },
    {
      "cell_type": "markdown",
      "metadata": {
        "id": "hYV3ZMH4GA57"
      },
      "source": [
        "## Evaluate the model with test data"
      ]
    },
    {
      "cell_type": "code",
      "execution_count": null,
      "metadata": {
        "id": "XIUfK-E-GA59",
        "colab": {
          "base_uri": "https://localhost:8080/"
        },
        "outputId": "ba4a2979-511b-4512-de99-60d87bd04b05"
      },
      "outputs": [
        {
          "output_type": "stream",
          "name": "stdout",
          "text": [
            "The test score is:  0.4649265706539154\n",
            "The Accuracy score is:  0.8748218417167664\n"
          ]
        }
      ],
      "source": [
        "score = cnn_model.evaluate(test_x, test_y , verbose = 0)\n",
        "print(\"The test score is: \",score[0])\n",
        "print(\"The Accuracy score is: \",score[1])"
      ]
    },
    {
      "cell_type": "markdown",
      "metadata": {
        "id": "WqPtnwbGGA59"
      },
      "source": [
        "### Testing the model using an external traffic sign image"
      ]
    },
    {
      "cell_type": "code",
      "execution_count": null,
      "metadata": {
        "id": "FCDqtLlvGA5-",
        "colab": {
          "base_uri": "https://localhost:8080/",
          "height": 465
        },
        "outputId": "50bb7d93-cc3d-4349-c4a7-75ebaae010a2"
      },
      "outputs": [
        {
          "output_type": "display_data",
          "data": {
            "text/plain": [
              "<Figure size 640x480 with 1 Axes>"
            ],
            "image/png": "[encoded data removed]"
          },
          "metadata": {}
        },
        {
          "output_type": "stream",
          "name": "stdout",
          "text": [
            "1/1 [==============================] - 0s 121ms/step\n",
            "The traffic sign is Speed limit (30km/h)\n"
          ]
        }
      ],
      "source": [
        "from PIL import Image\n",
        "import numpy as np\n",
        "import cv2\n",
        "import matplotlib.pyplot as plt\n",
        "\n",
        "# Load your image as you've done before\n",
        "img = Image.open('/test2.jpeg')\n",
        "img = np.asarray(img)\n",
        "img = cv2.resize(img, (32, 32))\n",
        "# plt.imshow(img)\n",
        "# plt.show()\n",
        "# Assuming 'processing' is a function you've defined to preprocess the image\n",
        "img = processing(img)\n",
        "\n",
        "# Display the preprocessed image\n",
        "plt.imshow(img, cmap=plt.get_cmap('gray'))\n",
        "plt.show()\n",
        "\n",
        "# Reshape the image for prediction\n",
        "img = img.reshape(1, 32, 32, 1)\n",
        "\n",
        "# Use the model to predict class probabilities\n",
        "class_probabilities = cnn_model.predict(img)\n",
        "\n",
        "# Find the class with the highest probability\n",
        "predicted_class = np.argmax(class_probabilities)\n",
        "\n",
        "# Assuming 'df' contains class labels, you can print the predicted class label\n",
        "#print('Predicted class is', predicted_class)\n",
        "print('The traffic sign is', df['SignName'][predicted_class])\n"
      ]
    },
    {
      "cell_type": "code",
      "source": [
        "\n"
      ],
      "metadata": {
        "id": "BEojC9pEBCnq"
      },
      "execution_count": 3,
      "outputs": []
    },
    {
      "cell_type": "code",
      "source": [],
      "metadata": {
        "id": "YR2tN_5z86jr"
      },
      "execution_count": null,
      "outputs": []
    }
  ],
  "metadata": {
    "kernelspec": {
      "display_name": "Python 3",
      "language": "python",
      "name": "python3"
    },
    "language_info": {
      "codemirror_mode": {
        "name": "ipython",
        "version": 3
      },
      "file_extension": ".py",
      "mimetype": "text/x-python",
      "name": "python",
      "nbconvert_exporter": "python",
      "pygments_lexer": "ipython3",
      "version": "3.5.2"
    },
    "colab": {
      "provenance": []
    }
  },
  "nbformat": 4,
  "nbformat_minor": 0
}